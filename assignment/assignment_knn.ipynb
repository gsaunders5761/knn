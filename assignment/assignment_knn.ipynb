{
 "cells": [
  {
   "cell_type": "markdown",
   "id": "f7ef20f0-722f-4240-8a79-437d4a3b8832",
   "metadata": {},
   "source": [
    "## Assignment 3: $k$ Nearest Neighbor\n",
    "\n",
    "**Do two questions.**\n",
    "\n",
    "`! git clone https://github.com/ds4e/knn`"
   ]
  },
  {
   "cell_type": "code",
   "execution_count": 2,
   "id": "0b1de815",
   "metadata": {},
   "outputs": [],
   "source": [
    "import pandas as pd\n",
    "import numpy as np\n",
    "import seaborn as sns"
   ]
  },
  {
   "cell_type": "markdown",
   "id": "5d9212c0",
   "metadata": {},
   "source": [
    "**Q0.**\n",
    "1. What is the difference between regression and classification?\n",
    "2. What is a confusion table? What does it help us understand about a model's performance?\n",
    "3. What does the SSE quantify about a particular model?\n",
    "4. What are overfitting and underfitting? \n",
    "5. Why does splitting the data into training and testing sets, and choosing $k$ by evaluating accuracy or SSE on the test set, improve model performance?\n",
    "6. With classification, we can report a class label as a prediction or a probability distribution over class labels. Please explain the strengths and weaknesses of each approach."
   ]
  },
  {
   "cell_type": "markdown",
   "id": "194455fa",
   "metadata": {},
   "source": [
    "**Q1.** This question is a case study for $k$ nearest neighbor regression, using the `USA_cars_datasets.csv` data.\n",
    "\n",
    "The target variable `y` is `price` and the features are `year` and `mileage`.\n",
    "\n",
    "1. Load the `./data/USA_cars_datasets.csv`. Keep the following variables and drop the rest: `price`, `year`, `mileage`. Are there any `NA`'s to handle? Look at the head and dimensions of the data.\n",
    "2. Maxmin normalize `year` and `mileage`.\n",
    "3. Split the sample into ~80% for training and ~20% for evaluation.\n",
    "4. Use the $k$NN algorithm and the training data to predict `price` using `year` and `mileage` for the test set for $k=3,10,25,50,100,300$. For each value of $k$, compute the mean squared error and print a scatterplot showing the test value plotted against the predicted value. What patterns do you notice as you increase $k$?\n",
    "5. Determine the optimal $k$ for these data.\n",
    "6. Describe what happened in the plots of predicted versus actual prices as $k$ varied, taking your answer into part 6 into account. (Hint: Use the words \"underfitting\" and \"overfitting\".)"
   ]
  },
  {
   "cell_type": "markdown",
   "id": "287b8586",
   "metadata": {},
   "source": [
    "**Q2.** This is a case study on $k$ nearest neighbor classification, using the `animals.csv` data.\n",
    "\n",
    "The data consist of a label, `class`, taking integer values 1 to 7, the name of the species, `animal`, and 16 characteristics of the animal, including `hair`, `feathers`, `milk`, `eggs`, `airborne`, and so on. \n",
    "\n",
    "1. Load the data. For each of the seven class labels, print the values in the class and get a sense of what is included in that group. Perform some other EDA: How big are the classes? How much variation is there in each of the features/covariates? Which variables do you think will best predict which class?\n"
   ]
  },
  {
   "cell_type": "code",
   "execution_count": 10,
   "id": "43998ff4",
   "metadata": {},
   "outputs": [
    {
     "data": {
      "application/vnd.microsoft.datawrangler.viewer.v0+json": {
       "columns": [
        {
         "name": "index",
         "rawType": "int64",
         "type": "integer"
        },
        {
         "name": "animal",
         "rawType": "object",
         "type": "string"
        },
        {
         "name": "hair",
         "rawType": "int64",
         "type": "integer"
        },
        {
         "name": "feathers",
         "rawType": "int64",
         "type": "integer"
        },
        {
         "name": "eggs",
         "rawType": "int64",
         "type": "integer"
        },
        {
         "name": "milk",
         "rawType": "int64",
         "type": "integer"
        },
        {
         "name": "airborne",
         "rawType": "int64",
         "type": "integer"
        },
        {
         "name": "aquatic",
         "rawType": "int64",
         "type": "integer"
        },
        {
         "name": "predator",
         "rawType": "int64",
         "type": "integer"
        },
        {
         "name": "toothed",
         "rawType": "int64",
         "type": "integer"
        },
        {
         "name": "backbone",
         "rawType": "int64",
         "type": "integer"
        },
        {
         "name": "breathes",
         "rawType": "int64",
         "type": "integer"
        },
        {
         "name": "venomous",
         "rawType": "int64",
         "type": "integer"
        },
        {
         "name": "fins",
         "rawType": "int64",
         "type": "integer"
        },
        {
         "name": "legs",
         "rawType": "int64",
         "type": "integer"
        },
        {
         "name": "tail",
         "rawType": "int64",
         "type": "integer"
        },
        {
         "name": "domestic",
         "rawType": "int64",
         "type": "integer"
        },
        {
         "name": "catsize",
         "rawType": "int64",
         "type": "integer"
        },
        {
         "name": "class",
         "rawType": "int64",
         "type": "integer"
        }
       ],
       "conversionMethod": "pd.DataFrame",
       "ref": "d05f0f4f-ac04-49c6-ad44-b913d5be8142",
       "rows": [
        [
         "0",
         "aardvark",
         "1",
         "0",
         "0",
         "1",
         "0",
         "0",
         "1",
         "1",
         "1",
         "1",
         "0",
         "0",
         "4",
         "0",
         "0",
         "1",
         "1"
        ],
        [
         "1",
         "antelope",
         "1",
         "0",
         "0",
         "1",
         "0",
         "0",
         "0",
         "1",
         "1",
         "1",
         "0",
         "0",
         "4",
         "1",
         "0",
         "1",
         "1"
        ],
        [
         "2",
         "bass",
         "0",
         "0",
         "1",
         "0",
         "0",
         "1",
         "1",
         "1",
         "1",
         "0",
         "0",
         "1",
         "0",
         "1",
         "0",
         "0",
         "4"
        ],
        [
         "3",
         "bear",
         "1",
         "0",
         "0",
         "1",
         "0",
         "0",
         "1",
         "1",
         "1",
         "1",
         "0",
         "0",
         "4",
         "0",
         "0",
         "1",
         "1"
        ],
        [
         "4",
         "boar",
         "1",
         "0",
         "0",
         "1",
         "0",
         "0",
         "1",
         "1",
         "1",
         "1",
         "0",
         "0",
         "4",
         "1",
         "0",
         "1",
         "1"
        ]
       ],
       "shape": {
        "columns": 18,
        "rows": 5
       }
      },
      "text/html": [
       "<div>\n",
       "<style scoped>\n",
       "    .dataframe tbody tr th:only-of-type {\n",
       "        vertical-align: middle;\n",
       "    }\n",
       "\n",
       "    .dataframe tbody tr th {\n",
       "        vertical-align: top;\n",
       "    }\n",
       "\n",
       "    .dataframe thead th {\n",
       "        text-align: right;\n",
       "    }\n",
       "</style>\n",
       "<table border=\"1\" class=\"dataframe\">\n",
       "  <thead>\n",
       "    <tr style=\"text-align: right;\">\n",
       "      <th></th>\n",
       "      <th>animal</th>\n",
       "      <th>hair</th>\n",
       "      <th>feathers</th>\n",
       "      <th>eggs</th>\n",
       "      <th>milk</th>\n",
       "      <th>airborne</th>\n",
       "      <th>aquatic</th>\n",
       "      <th>predator</th>\n",
       "      <th>toothed</th>\n",
       "      <th>backbone</th>\n",
       "      <th>breathes</th>\n",
       "      <th>venomous</th>\n",
       "      <th>fins</th>\n",
       "      <th>legs</th>\n",
       "      <th>tail</th>\n",
       "      <th>domestic</th>\n",
       "      <th>catsize</th>\n",
       "      <th>class</th>\n",
       "    </tr>\n",
       "  </thead>\n",
       "  <tbody>\n",
       "    <tr>\n",
       "      <th>0</th>\n",
       "      <td>aardvark</td>\n",
       "      <td>1</td>\n",
       "      <td>0</td>\n",
       "      <td>0</td>\n",
       "      <td>1</td>\n",
       "      <td>0</td>\n",
       "      <td>0</td>\n",
       "      <td>1</td>\n",
       "      <td>1</td>\n",
       "      <td>1</td>\n",
       "      <td>1</td>\n",
       "      <td>0</td>\n",
       "      <td>0</td>\n",
       "      <td>4</td>\n",
       "      <td>0</td>\n",
       "      <td>0</td>\n",
       "      <td>1</td>\n",
       "      <td>1</td>\n",
       "    </tr>\n",
       "    <tr>\n",
       "      <th>1</th>\n",
       "      <td>antelope</td>\n",
       "      <td>1</td>\n",
       "      <td>0</td>\n",
       "      <td>0</td>\n",
       "      <td>1</td>\n",
       "      <td>0</td>\n",
       "      <td>0</td>\n",
       "      <td>0</td>\n",
       "      <td>1</td>\n",
       "      <td>1</td>\n",
       "      <td>1</td>\n",
       "      <td>0</td>\n",
       "      <td>0</td>\n",
       "      <td>4</td>\n",
       "      <td>1</td>\n",
       "      <td>0</td>\n",
       "      <td>1</td>\n",
       "      <td>1</td>\n",
       "    </tr>\n",
       "    <tr>\n",
       "      <th>2</th>\n",
       "      <td>bass</td>\n",
       "      <td>0</td>\n",
       "      <td>0</td>\n",
       "      <td>1</td>\n",
       "      <td>0</td>\n",
       "      <td>0</td>\n",
       "      <td>1</td>\n",
       "      <td>1</td>\n",
       "      <td>1</td>\n",
       "      <td>1</td>\n",
       "      <td>0</td>\n",
       "      <td>0</td>\n",
       "      <td>1</td>\n",
       "      <td>0</td>\n",
       "      <td>1</td>\n",
       "      <td>0</td>\n",
       "      <td>0</td>\n",
       "      <td>4</td>\n",
       "    </tr>\n",
       "    <tr>\n",
       "      <th>3</th>\n",
       "      <td>bear</td>\n",
       "      <td>1</td>\n",
       "      <td>0</td>\n",
       "      <td>0</td>\n",
       "      <td>1</td>\n",
       "      <td>0</td>\n",
       "      <td>0</td>\n",
       "      <td>1</td>\n",
       "      <td>1</td>\n",
       "      <td>1</td>\n",
       "      <td>1</td>\n",
       "      <td>0</td>\n",
       "      <td>0</td>\n",
       "      <td>4</td>\n",
       "      <td>0</td>\n",
       "      <td>0</td>\n",
       "      <td>1</td>\n",
       "      <td>1</td>\n",
       "    </tr>\n",
       "    <tr>\n",
       "      <th>4</th>\n",
       "      <td>boar</td>\n",
       "      <td>1</td>\n",
       "      <td>0</td>\n",
       "      <td>0</td>\n",
       "      <td>1</td>\n",
       "      <td>0</td>\n",
       "      <td>0</td>\n",
       "      <td>1</td>\n",
       "      <td>1</td>\n",
       "      <td>1</td>\n",
       "      <td>1</td>\n",
       "      <td>0</td>\n",
       "      <td>0</td>\n",
       "      <td>4</td>\n",
       "      <td>1</td>\n",
       "      <td>0</td>\n",
       "      <td>1</td>\n",
       "      <td>1</td>\n",
       "    </tr>\n",
       "  </tbody>\n",
       "</table>\n",
       "</div>"
      ],
      "text/plain": [
       "     animal  hair  feathers  eggs  milk  airborne  aquatic  predator  toothed  \\\n",
       "0  aardvark     1         0     0     1         0        0         1        1   \n",
       "1  antelope     1         0     0     1         0        0         0        1   \n",
       "2      bass     0         0     1     0         0        1         1        1   \n",
       "3      bear     1         0     0     1         0        0         1        1   \n",
       "4      boar     1         0     0     1         0        0         1        1   \n",
       "\n",
       "   backbone  breathes  venomous  fins  legs  tail  domestic  catsize  class  \n",
       "0         1         1         0     0     4     0         0        1      1  \n",
       "1         1         1         0     0     4     1         0        1      1  \n",
       "2         1         0         0     1     0     1         0        0      4  \n",
       "3         1         1         0     0     4     0         0        1      1  \n",
       "4         1         1         0     0     4     1         0        1      1  "
      ]
     },
     "execution_count": 10,
     "metadata": {},
     "output_type": "execute_result"
    }
   ],
   "source": [
    "zoo = pd.read_csv('/Users/gracesaunders/Documents/GitHub/knn/data/zoo.csv')\n",
    "zoo.head()\n"
   ]
  },
  {
   "cell_type": "code",
   "execution_count": 25,
   "id": "d65a98d8",
   "metadata": {},
   "outputs": [
    {
     "name": "stdout",
     "output_type": "stream",
     "text": [
      "\n",
      "Class 1 contains 41 animals:\n",
      "aardvark, antelope, bear, boar, buffalo, calf, cavy, cheetah, deer, dolphin, elephant, fruitbat, giraffe, girl, goat, gorilla, hamster, hare, leopard, lion, lynx, mink, mole, mongoose, opossum, oryx, platypus, polecat, pony, porpoise, puma, pussycat, raccoon, reindeer, seal, sealion, squirrel, vampire, vole, wallaby, wolf\n",
      "\n",
      "Class 2 contains 20 animals:\n",
      "chicken, crow, dove, duck, flamingo, gull, hawk, kiwi, lark, ostrich, parakeet, penguin, pheasant, rhea, skimmer, skua, sparrow, swan, vulture, wren\n",
      "\n",
      "Class 3 contains 5 animals:\n",
      "pitviper, seasnake, slowworm, tortoise, tuatara\n",
      "\n",
      "Class 4 contains 13 animals:\n",
      "bass, carp, catfish, chub, dogfish, haddock, herring, pike, piranha, seahorse, sole, stingray, tuna\n",
      "\n",
      "Class 5 contains 4 animals:\n",
      "frog, frog, newt, toad\n",
      "\n",
      "Class 6 contains 8 animals:\n",
      "flea, gnat, honeybee, housefly, ladybird, moth, termite, wasp\n",
      "\n",
      "Class 7 contains 10 animals:\n",
      "clam, crab, crayfish, lobster, octopus, scorpion, seawasp, slug, starfish, worm\n"
     ]
    }
   ],
   "source": [
    "classes = sorted(zoo['class'].unique())\n",
    "\n",
    "for label in classes:\n",
    "    class_animals = zoo.loc[zoo['class'] == label, 'animal'].tolist()\n",
    "    print(f\"\\nClass {label} contains {len(class_animals)} animals:\")\n",
    "    print(\", \".join(class_animals))\n",
    "\n",
    "# the class sizes vary from 4 to 41 animals"
   ]
  },
  {
   "cell_type": "code",
   "execution_count": null,
   "id": "3e38a768",
   "metadata": {},
   "outputs": [
    {
     "name": "stdout",
     "output_type": "stream",
     "text": [
      "hair\n",
      "0    58\n",
      "1    43\n",
      "Name: count, dtype: int64\n",
      "feathers\n",
      "0    81\n",
      "1    20\n",
      "Name: count, dtype: int64\n",
      "eggs\n",
      "1    59\n",
      "0    42\n",
      "Name: count, dtype: int64\n",
      "milk\n",
      "0    60\n",
      "1    41\n",
      "Name: count, dtype: int64\n",
      "airborne\n",
      "0    77\n",
      "1    24\n",
      "Name: count, dtype: int64\n",
      "aquatic\n",
      "0    65\n",
      "1    36\n",
      "Name: count, dtype: int64\n",
      "predator\n",
      "1    56\n",
      "0    45\n",
      "Name: count, dtype: int64\n",
      "toothed\n",
      "1    61\n",
      "0    40\n",
      "Name: count, dtype: int64\n",
      "backbone\n",
      "1    83\n",
      "0    18\n",
      "Name: count, dtype: int64\n",
      "breathes\n",
      "1    80\n",
      "0    21\n",
      "Name: count, dtype: int64\n",
      "venomous\n",
      "0    93\n",
      "1     8\n",
      "Name: count, dtype: int64\n",
      "fins\n",
      "0    84\n",
      "1    17\n",
      "Name: count, dtype: int64\n",
      "legs\n",
      "4    38\n",
      "2    27\n",
      "0    23\n",
      "6    10\n",
      "8     2\n",
      "5     1\n",
      "Name: count, dtype: int64\n",
      "tail\n",
      "1    75\n",
      "0    26\n",
      "Name: count, dtype: int64\n",
      "domestic\n",
      "0    88\n",
      "1    13\n",
      "Name: count, dtype: int64\n",
      "catsize\n",
      "0    57\n",
      "1    44\n",
      "Name: count, dtype: int64\n"
     ]
    }
   ],
   "source": [
    "for feat in zoo.columns[1:-1]: # skip the first column, which is the animal name, and the last column, which is the class\n",
    "    print(zoo[feat].value_counts())\n",
    "# all the variables except for animal name, class, and number of legs are binary"
   ]
  },
  {
   "cell_type": "code",
   "execution_count": 51,
   "id": "f6e2b49c",
   "metadata": {},
   "outputs": [
    {
     "name": "stdout",
     "output_type": "stream",
     "text": [
      "       hair                                            \n",
      "      count     mean       std  min  25%  50%  75%  max\n",
      "class                                                  \n",
      "1      41.0  0.95122  0.218085  0.0  1.0  1.0  1.0  1.0\n",
      "2      20.0  0.00000  0.000000  0.0  0.0  0.0  0.0  0.0\n",
      "3       5.0  0.00000  0.000000  0.0  0.0  0.0  0.0  0.0\n",
      "4      13.0  0.00000  0.000000  0.0  0.0  0.0  0.0  0.0\n",
      "5       4.0  0.00000  0.000000  0.0  0.0  0.0  0.0  0.0\n",
      "6       8.0  0.50000  0.534522  0.0  0.0  0.5  1.0  1.0\n",
      "7      10.0  0.00000  0.000000  0.0  0.0  0.0  0.0  0.0\n",
      "      feathers                                   \n",
      "         count mean  std  min  25%  50%  75%  max\n",
      "class                                            \n",
      "1         41.0  0.0  0.0  0.0  0.0  0.0  0.0  0.0\n",
      "2         20.0  1.0  0.0  1.0  1.0  1.0  1.0  1.0\n",
      "3          5.0  0.0  0.0  0.0  0.0  0.0  0.0  0.0\n",
      "4         13.0  0.0  0.0  0.0  0.0  0.0  0.0  0.0\n",
      "5          4.0  0.0  0.0  0.0  0.0  0.0  0.0  0.0\n",
      "6          8.0  0.0  0.0  0.0  0.0  0.0  0.0  0.0\n",
      "7         10.0  0.0  0.0  0.0  0.0  0.0  0.0  0.0\n",
      "       eggs                                            \n",
      "      count     mean       std  min  25%  50%  75%  max\n",
      "class                                                  \n",
      "1      41.0  0.02439  0.156174  0.0  0.0  0.0  0.0  1.0\n",
      "2      20.0  1.00000  0.000000  1.0  1.0  1.0  1.0  1.0\n",
      "3       5.0  0.80000  0.447214  0.0  1.0  1.0  1.0  1.0\n",
      "4      13.0  1.00000  0.000000  1.0  1.0  1.0  1.0  1.0\n",
      "5       4.0  1.00000  0.000000  1.0  1.0  1.0  1.0  1.0\n",
      "6       8.0  1.00000  0.000000  1.0  1.0  1.0  1.0  1.0\n",
      "7      10.0  0.90000  0.316228  0.0  1.0  1.0  1.0  1.0\n",
      "       milk                                   \n",
      "      count mean  std  min  25%  50%  75%  max\n",
      "class                                         \n",
      "1      41.0  1.0  0.0  1.0  1.0  1.0  1.0  1.0\n",
      "2      20.0  0.0  0.0  0.0  0.0  0.0  0.0  0.0\n",
      "3       5.0  0.0  0.0  0.0  0.0  0.0  0.0  0.0\n",
      "4      13.0  0.0  0.0  0.0  0.0  0.0  0.0  0.0\n",
      "5       4.0  0.0  0.0  0.0  0.0  0.0  0.0  0.0\n",
      "6       8.0  0.0  0.0  0.0  0.0  0.0  0.0  0.0\n",
      "7      10.0  0.0  0.0  0.0  0.0  0.0  0.0  0.0\n",
      "      airborne                                             \n",
      "         count     mean       std  min   25%  50%  75%  max\n",
      "class                                                      \n",
      "1         41.0  0.04878  0.218085  0.0  0.00  0.0  0.0  1.0\n",
      "2         20.0  0.80000  0.410391  0.0  1.00  1.0  1.0  1.0\n",
      "3          5.0  0.00000  0.000000  0.0  0.00  0.0  0.0  0.0\n",
      "4         13.0  0.00000  0.000000  0.0  0.00  0.0  0.0  0.0\n",
      "5          4.0  0.00000  0.000000  0.0  0.00  0.0  0.0  0.0\n",
      "6          8.0  0.75000  0.462910  0.0  0.75  1.0  1.0  1.0\n",
      "7         10.0  0.00000  0.000000  0.0  0.00  0.0  0.0  0.0\n",
      "      aquatic                                             \n",
      "        count      mean       std  min  25%  50%  75%  max\n",
      "class                                                     \n",
      "1        41.0  0.146341  0.357839  0.0  0.0  0.0  0.0  1.0\n",
      "2        20.0  0.300000  0.470162  0.0  0.0  0.0  1.0  1.0\n",
      "3         5.0  0.200000  0.447214  0.0  0.0  0.0  0.0  1.0\n",
      "4        13.0  1.000000  0.000000  1.0  1.0  1.0  1.0  1.0\n",
      "5         4.0  1.000000  0.000000  1.0  1.0  1.0  1.0  1.0\n",
      "6         8.0  0.000000  0.000000  0.0  0.0  0.0  0.0  0.0\n",
      "7        10.0  0.600000  0.516398  0.0  0.0  1.0  1.0  1.0\n",
      "      predator                                              \n",
      "         count      mean       std  min   25%  50%  75%  max\n",
      "class                                                       \n",
      "1         41.0  0.536585  0.504854  0.0  0.00  1.0  1.0  1.0\n",
      "2         20.0  0.450000  0.510418  0.0  0.00  0.0  1.0  1.0\n",
      "3          5.0  0.800000  0.447214  0.0  1.00  1.0  1.0  1.0\n",
      "4         13.0  0.692308  0.480384  0.0  0.00  1.0  1.0  1.0\n",
      "5          4.0  0.750000  0.500000  0.0  0.75  1.0  1.0  1.0\n",
      "6          8.0  0.125000  0.353553  0.0  0.00  0.0  0.0  1.0\n",
      "7         10.0  0.800000  0.421637  0.0  1.00  1.0  1.0  1.0\n",
      "      toothed                                            \n",
      "        count     mean       std  min  25%  50%  75%  max\n",
      "class                                                    \n",
      "1        41.0  0.97561  0.156174  0.0  1.0  1.0  1.0  1.0\n",
      "2        20.0  0.00000  0.000000  0.0  0.0  0.0  0.0  0.0\n",
      "3         5.0  0.80000  0.447214  0.0  1.0  1.0  1.0  1.0\n",
      "4        13.0  1.00000  0.000000  1.0  1.0  1.0  1.0  1.0\n",
      "5         4.0  1.00000  0.000000  1.0  1.0  1.0  1.0  1.0\n",
      "6         8.0  0.00000  0.000000  0.0  0.0  0.0  0.0  0.0\n",
      "7        10.0  0.00000  0.000000  0.0  0.0  0.0  0.0  0.0\n",
      "      backbone                                   \n",
      "         count mean  std  min  25%  50%  75%  max\n",
      "class                                            \n",
      "1         41.0  1.0  0.0  1.0  1.0  1.0  1.0  1.0\n",
      "2         20.0  1.0  0.0  1.0  1.0  1.0  1.0  1.0\n",
      "3          5.0  1.0  0.0  1.0  1.0  1.0  1.0  1.0\n",
      "4         13.0  1.0  0.0  1.0  1.0  1.0  1.0  1.0\n",
      "5          4.0  1.0  0.0  1.0  1.0  1.0  1.0  1.0\n",
      "6          8.0  0.0  0.0  0.0  0.0  0.0  0.0  0.0\n",
      "7         10.0  0.0  0.0  0.0  0.0  0.0  0.0  0.0\n",
      "      breathes                                         \n",
      "         count mean       std  min  25%  50%   75%  max\n",
      "class                                                  \n",
      "1         41.0  1.0  0.000000  1.0  1.0  1.0  1.00  1.0\n",
      "2         20.0  1.0  0.000000  1.0  1.0  1.0  1.00  1.0\n",
      "3          5.0  0.8  0.447214  0.0  1.0  1.0  1.00  1.0\n",
      "4         13.0  0.0  0.000000  0.0  0.0  0.0  0.00  0.0\n",
      "5          4.0  1.0  0.000000  1.0  1.0  1.0  1.00  1.0\n",
      "6          8.0  1.0  0.000000  1.0  1.0  1.0  1.00  1.0\n",
      "7         10.0  0.3  0.483046  0.0  0.0  0.0  0.75  1.0\n",
      "      venomous                                              \n",
      "         count      mean       std  min  25%  50%   75%  max\n",
      "class                                                       \n",
      "1         41.0  0.000000  0.000000  0.0  0.0  0.0  0.00  0.0\n",
      "2         20.0  0.000000  0.000000  0.0  0.0  0.0  0.00  0.0\n",
      "3          5.0  0.400000  0.547723  0.0  0.0  0.0  1.00  1.0\n",
      "4         13.0  0.076923  0.277350  0.0  0.0  0.0  0.00  1.0\n",
      "5          4.0  0.250000  0.500000  0.0  0.0  0.0  0.25  1.0\n",
      "6          8.0  0.250000  0.462910  0.0  0.0  0.0  0.25  1.0\n",
      "7         10.0  0.200000  0.421637  0.0  0.0  0.0  0.00  1.0\n",
      "       fins                                             \n",
      "      count      mean       std  min  25%  50%  75%  max\n",
      "class                                                   \n",
      "1      41.0  0.097561  0.300406  0.0  0.0  0.0  0.0  1.0\n",
      "2      20.0  0.000000  0.000000  0.0  0.0  0.0  0.0  0.0\n",
      "3       5.0  0.000000  0.000000  0.0  0.0  0.0  0.0  0.0\n",
      "4      13.0  1.000000  0.000000  1.0  1.0  1.0  1.0  1.0\n",
      "5       4.0  0.000000  0.000000  0.0  0.0  0.0  0.0  0.0\n",
      "6       8.0  0.000000  0.000000  0.0  0.0  0.0  0.0  0.0\n",
      "7      10.0  0.000000  0.000000  0.0  0.0  0.0  0.0  0.0\n",
      "       legs                                             \n",
      "      count      mean       std  min  25%  50%  75%  max\n",
      "class                                                   \n",
      "1      41.0  3.365854  1.219756  0.0  4.0  4.0  4.0  4.0\n",
      "2      20.0  2.000000  0.000000  2.0  2.0  2.0  2.0  2.0\n",
      "3       5.0  1.600000  2.190890  0.0  0.0  0.0  4.0  4.0\n",
      "4      13.0  0.000000  0.000000  0.0  0.0  0.0  0.0  0.0\n",
      "5       4.0  4.000000  0.000000  4.0  4.0  4.0  4.0  4.0\n",
      "6       8.0  6.000000  0.000000  6.0  6.0  6.0  6.0  6.0\n",
      "7      10.0  3.700000  3.400980  0.0  0.0  4.5  6.0  8.0\n",
      "       tail                                              \n",
      "      count      mean       std  min  25%  50%   75%  max\n",
      "class                                                    \n",
      "1      41.0  0.853659  0.357839  0.0  1.0  1.0  1.00  1.0\n",
      "2      20.0  1.000000  0.000000  1.0  1.0  1.0  1.00  1.0\n",
      "3       5.0  1.000000  0.000000  1.0  1.0  1.0  1.00  1.0\n",
      "4      13.0  1.000000  0.000000  1.0  1.0  1.0  1.00  1.0\n",
      "5       4.0  0.250000  0.500000  0.0  0.0  0.0  0.25  1.0\n",
      "6       8.0  0.000000  0.000000  0.0  0.0  0.0  0.00  0.0\n",
      "7      10.0  0.100000  0.316228  0.0  0.0  0.0  0.00  1.0\n",
      "      domestic                                             \n",
      "         count      mean       std  min  25%  50%  75%  max\n",
      "class                                                      \n",
      "1         41.0  0.195122  0.401218  0.0  0.0  0.0  0.0  1.0\n",
      "2         20.0  0.150000  0.366348  0.0  0.0  0.0  0.0  1.0\n",
      "3          5.0  0.000000  0.000000  0.0  0.0  0.0  0.0  0.0\n",
      "4         13.0  0.076923  0.277350  0.0  0.0  0.0  0.0  1.0\n",
      "5          4.0  0.000000  0.000000  0.0  0.0  0.0  0.0  0.0\n",
      "6          8.0  0.125000  0.353553  0.0  0.0  0.0  0.0  1.0\n",
      "7         10.0  0.000000  0.000000  0.0  0.0  0.0  0.0  0.0\n",
      "      catsize                                             \n",
      "        count      mean       std  min  25%  50%  75%  max\n",
      "class                                                     \n",
      "1        41.0  0.780488  0.419058  0.0  1.0  1.0  1.0  1.0\n",
      "2        20.0  0.300000  0.470162  0.0  0.0  0.0  1.0  1.0\n",
      "3         5.0  0.200000  0.447214  0.0  0.0  0.0  0.0  1.0\n",
      "4        13.0  0.307692  0.480384  0.0  0.0  0.0  1.0  1.0\n",
      "5         4.0  0.000000  0.000000  0.0  0.0  0.0  0.0  0.0\n",
      "6         8.0  0.000000  0.000000  0.0  0.0  0.0  0.0  0.0\n",
      "7        10.0  0.100000  0.316228  0.0  0.0  0.0  0.0  1.0\n"
     ]
    }
   ],
   "source": [
    "for feat in zoo.columns[1:-1]:\n",
    "    print(zoo.loc[:,[feat,'class']].groupby('class').describe())\n",
    "\n",
    "# features with whole number means for all/most classes will be useful for classification\n",
    "# i.e. feathers, milk, backbone, breathes, fins\n",
    "# and features with means that approach 0 or 1 for certain classes will also be useful\n",
    "# i.e. hair, eggs, airborne, aquatic, toothed, tail\n",
    "# features with means that are close to 0.5 or similar between many classes or will not be as useful\n",
    "# i.e. predator, venomous, domestic, catsize\n",
    "# legs will be useful for classification, particularly where the mean is a whole number \n",
    "# classes 2, 4, 5, and 6\n"
   ]
  },
  {
   "cell_type": "code",
   "execution_count": null,
   "id": "d2107d28",
   "metadata": {},
   "outputs": [
    {
     "data": {
      "image/png": "[encoded data removed]",
      "text/plain": [
       "<Figure size 640x480 with 1 Axes>"
      ]
     },
     "metadata": {},
     "output_type": "display_data"
    },
    {
     "data": {
      "image/png": "[encoded data removed]",
      "text/plain": [
       "<Figure size 640x480 with 1 Axes>"
      ]
     },
     "metadata": {},
     "output_type": "display_data"
    },
    {
     "data": {
      "image/png": "[encoded data removed]",
      "text/plain": [
       "<Figure size 640x480 with 1 Axes>"
      ]
     },
     "metadata": {},
     "output_type": "display_data"
    },
    {
     "data": {
      "image/png": "[encoded data removed]",
      "text/plain": [
       "<Figure size 640x480 with 1 Axes>"
      ]
     },
     "metadata": {},
     "output_type": "display_data"
    },
    {
     "data": {
      "image/png": "[encoded data removed]",
      "text/plain": [
       "<Figure size 640x480 with 1 Axes>"
      ]
     },
     "metadata": {},
     "output_type": "display_data"
    },
    {
     "data": {
      "image/png": "[encoded data removed]",
      "text/plain": [
       "<Figure size 640x480 with 1 Axes>"
      ]
     },
     "metadata": {},
     "output_type": "display_data"
    },
    {
     "data": {
      "image/png": "[encoded data removed]",
      "text/plain": [
       "<Figure size 640x480 with 1 Axes>"
      ]
     },
     "metadata": {},
     "output_type": "display_data"
    },
    {
     "data": {
      "image/png": "[encoded data removed]",
      "text/plain": [
       "<Figure size 640x480 with 1 Axes>"
      ]
     },
     "metadata": {},
     "output_type": "display_data"
    },
    {
     "data": {
      "image/png": "[encoded data removed]",
      "text/plain": [
       "<Figure size 640x480 with 1 Axes>"
      ]
     },
     "metadata": {},
     "output_type": "display_data"
    },
    {
     "data": {
      "image/png": "[encoded data removed]",
      "text/plain": [
       "<Figure size 640x480 with 1 Axes>"
      ]
     },
     "metadata": {},
     "output_type": "display_data"
    },
    {
     "data": {
      "image/png": "[encoded data removed]",
      "text/plain": [
       "<Figure size 640x480 with 1 Axes>"
      ]
     },
     "metadata": {},
     "output_type": "display_data"
    },
    {
     "data": {
      "image/png": "[encoded data removed]",
      "text/plain": [
       "<Figure size 640x480 with 1 Axes>"
      ]
     },
     "metadata": {},
     "output_type": "display_data"
    },
    {
     "data": {
      "image/png": "[encoded data removed]",
      "text/plain": [
       "<Figure size 640x480 with 1 Axes>"
      ]
     },
     "metadata": {},
     "output_type": "display_data"
    },
    {
     "data": {
      "image/png": "[encoded data removed]",
      "text/plain": [
       "<Figure size 640x480 with 1 Axes>"
      ]
     },
     "metadata": {},
     "output_type": "display_data"
    },
    {
     "data": {
      "image/png": "[encoded data removed]",
      "text/plain": [
       "<Figure size 640x480 with 1 Axes>"
      ]
     },
     "metadata": {},
     "output_type": "display_data"
    },
    {
     "data": {
      "image/png": "[encoded data removed]",
      "text/plain": [
       "<Figure size 640x480 with 1 Axes>"
      ]
     },
     "metadata": {},
     "output_type": "display_data"
    }
   ],
   "source": [
    "for feat in zoo.columns[1:-1]:\n",
    "    curr = pd.crosstab(zoo['class'], zoo[feat], normalize='index')\n",
    "    curr.plot(kind='bar', stacked=True)\n",
    "# these plots show the distribution of each feature by class as a percentage of the total number of animals in that class\n",
    "# the features that will be the most informative for classification are the ones that have the most variation between classes\n",
    "# and the least variation within classes \n",
    "# since most of the features are binary, the ones that are most informative will be the ones that are closest to 100% or 0% for certain classes\n",
    "# for example, the feature 'feathers' is very informative because it is 100% for class 2 and 0% for all other classes, which makes sense \n",
    "# because birds are the only animals with feathers, and feathers is a defining characteristic of birds\n",
    "# same for milk, where mammals are the only animals with milk so it is 100% for class 1 and 0% for all other classes\n"
   ]
  },
  {
   "cell_type": "markdown",
   "id": "8988af4a",
   "metadata": {},
   "source": [
    "2. Split the data 50/50 into training and test/validation sets. (The smaller the data are, the more equal the split should be, in my experience: Otherwise, all of the members of one class end up in the training or test data, and the model falls apart.)\n"
   ]
  },
  {
   "cell_type": "code",
   "execution_count": null,
   "id": "8aed4c8c",
   "metadata": {},
   "outputs": [],
   "source": [
    "from sklearn.neighbors import KNeighborsClassifier\n",
    "from sklearn.model_selection import train_test_split\n",
    "\n",
    "def maxmin(z):\n",
    "    z = (z-min(z))/(max(z)-min(z))\n",
    "    return(z)\n",
    "\n",
    "## Select data:\n",
    "y = zoo['class'] # Target variable\n",
    "X = zoo.drop(columns=['class', 'animal']) # Create feature matrix including everything except the target variable and animal name\n",
    "X = X.apply(maxmin) # Normalize X"
   ]
  },
  {
   "cell_type": "code",
   "execution_count": 68,
   "id": "c05899af",
   "metadata": {},
   "outputs": [],
   "source": [
    "# split the data into training and test sets using sklearn\n",
    "X_train, X_test, y_train, y_test = train_test_split(X,y, # Feature and target variables\n",
    "                                                    test_size=.5, # Split the sample 50 train/50 test\n",
    "                                                    random_state=100) # For replication purposes\n",
    "N_train = len(y_train)\n",
    "N_test = len(y_test)"
   ]
  },
  {
   "cell_type": "markdown",
   "id": "496c6557",
   "metadata": {},
   "source": [
    "3. Using all of the variables, build a $k$-NN classifier. Explain how you select $k$.\n"
   ]
  },
  {
   "cell_type": "code",
   "execution_count": null,
   "id": "fd11f403",
   "metadata": {},
   "outputs": [
    {
     "name": "stdout",
     "output_type": "stream",
     "text": [
      "[1]\n"
     ]
    }
   ],
   "source": [
    "## Solve for k that maximizes accuracy, using modified code from kNN.ipynb:\n",
    "k_bar = N_test # Number of k's to try (length of test set)\n",
    "Acc = [] # We'll store the accuracy here \n",
    "\n",
    "for k in range(1, k_bar):\n",
    "    model = KNeighborsClassifier(n_neighbors=k) # Create a sk model for k\n",
    "    fitted_model = model.fit(X_train.values,y_train) # Train the model on our data\n",
    "    y_hat = fitted_model.predict(X_test.values) # Predict values for test set\n",
    "    Acc.append( np.sum( y_hat == y_test )/N_test ) # Accuracy on testing data\n",
    "\n",
    "Acc_max = np.max(Acc) # Find highest recorded Accuracy\n",
    "max_index = np.where(Acc==Acc_max) # Find the indices that equal the maximum\n",
    "k_star = max_index[0]+1 # Find the optimal value of k\n",
    "print(k_star) # I was surprised that the optimal value of k was 1, \n",
    "# but I suppose it makes sense because the classes are fairly distinct with respect to certain features?\n",
    "# and with all the features included, the model is able to classify the animals based only on the single nearest neighbor"
   ]
  },
  {
   "cell_type": "code",
   "execution_count": 72,
   "id": "758dbc04",
   "metadata": {},
   "outputs": [],
   "source": [
    "## Fit optimal model:\n",
    "model = KNeighborsClassifier(n_neighbors=k_star[0]) # Create a sk model for k\n",
    "fitted_model = model.fit(X_train.values,y_train) # Train the model on our data\n",
    "y_hat = fitted_model.predict(X_test.values) # Predict values for test set"
   ]
  },
  {
   "cell_type": "markdown",
   "id": "b66839d4",
   "metadata": {},
   "source": [
    "4. Print a confusion table for the optimal model, comparing predicted and actual class label on the test set. How accurate it is? Can you interpret why mistakes are made across groups?\n"
   ]
  },
  {
   "cell_type": "code",
   "execution_count": 73,
   "id": "5f585aa5",
   "metadata": {},
   "outputs": [
    {
     "data": {
      "application/vnd.microsoft.datawrangler.viewer.v0+json": {
       "columns": [
        {
         "name": "class",
         "rawType": "int64",
         "type": "integer"
        },
        {
         "name": "1",
         "rawType": "int64",
         "type": "integer"
        },
        {
         "name": "2",
         "rawType": "int64",
         "type": "integer"
        },
        {
         "name": "3",
         "rawType": "int64",
         "type": "integer"
        },
        {
         "name": "4",
         "rawType": "int64",
         "type": "integer"
        },
        {
         "name": "5",
         "rawType": "int64",
         "type": "integer"
        },
        {
         "name": "6",
         "rawType": "int64",
         "type": "integer"
        },
        {
         "name": "7",
         "rawType": "int64",
         "type": "integer"
        }
       ],
       "conversionMethod": "pd.DataFrame",
       "ref": "c6693404-3951-4990-b603-d92f75e9f5b1",
       "rows": [
        [
         "1",
         "23",
         "0",
         "0",
         "0",
         "0",
         "0",
         "0"
        ],
        [
         "2",
         "0",
         "12",
         "0",
         "0",
         "0",
         "0",
         "0"
        ],
        [
         "3",
         "0",
         "0",
         "2",
         "1",
         "0",
         "0",
         "0"
        ],
        [
         "4",
         "0",
         "0",
         "0",
         "3",
         "0",
         "0",
         "0"
        ],
        [
         "5",
         "0",
         "0",
         "0",
         "0",
         "3",
         "0",
         "0"
        ],
        [
         "6",
         "0",
         "0",
         "0",
         "0",
         "0",
         "5",
         "0"
        ],
        [
         "7",
         "0",
         "0",
         "0",
         "0",
         "0",
         "0",
         "2"
        ]
       ],
       "shape": {
        "columns": 7,
        "rows": 7
       }
      },
      "text/html": [
       "<div>\n",
       "<style scoped>\n",
       "    .dataframe tbody tr th:only-of-type {\n",
       "        vertical-align: middle;\n",
       "    }\n",
       "\n",
       "    .dataframe tbody tr th {\n",
       "        vertical-align: top;\n",
       "    }\n",
       "\n",
       "    .dataframe thead th {\n",
       "        text-align: right;\n",
       "    }\n",
       "</style>\n",
       "<table border=\"1\" class=\"dataframe\">\n",
       "  <thead>\n",
       "    <tr style=\"text-align: right;\">\n",
       "      <th>col_0</th>\n",
       "      <th>1</th>\n",
       "      <th>2</th>\n",
       "      <th>3</th>\n",
       "      <th>4</th>\n",
       "      <th>5</th>\n",
       "      <th>6</th>\n",
       "      <th>7</th>\n",
       "    </tr>\n",
       "    <tr>\n",
       "      <th>class</th>\n",
       "      <th></th>\n",
       "      <th></th>\n",
       "      <th></th>\n",
       "      <th></th>\n",
       "      <th></th>\n",
       "      <th></th>\n",
       "      <th></th>\n",
       "    </tr>\n",
       "  </thead>\n",
       "  <tbody>\n",
       "    <tr>\n",
       "      <th>1</th>\n",
       "      <td>23</td>\n",
       "      <td>0</td>\n",
       "      <td>0</td>\n",
       "      <td>0</td>\n",
       "      <td>0</td>\n",
       "      <td>0</td>\n",
       "      <td>0</td>\n",
       "    </tr>\n",
       "    <tr>\n",
       "      <th>2</th>\n",
       "      <td>0</td>\n",
       "      <td>12</td>\n",
       "      <td>0</td>\n",
       "      <td>0</td>\n",
       "      <td>0</td>\n",
       "      <td>0</td>\n",
       "      <td>0</td>\n",
       "    </tr>\n",
       "    <tr>\n",
       "      <th>3</th>\n",
       "      <td>0</td>\n",
       "      <td>0</td>\n",
       "      <td>2</td>\n",
       "      <td>1</td>\n",
       "      <td>0</td>\n",
       "      <td>0</td>\n",
       "      <td>0</td>\n",
       "    </tr>\n",
       "    <tr>\n",
       "      <th>4</th>\n",
       "      <td>0</td>\n",
       "      <td>0</td>\n",
       "      <td>0</td>\n",
       "      <td>3</td>\n",
       "      <td>0</td>\n",
       "      <td>0</td>\n",
       "      <td>0</td>\n",
       "    </tr>\n",
       "    <tr>\n",
       "      <th>5</th>\n",
       "      <td>0</td>\n",
       "      <td>0</td>\n",
       "      <td>0</td>\n",
       "      <td>0</td>\n",
       "      <td>3</td>\n",
       "      <td>0</td>\n",
       "      <td>0</td>\n",
       "    </tr>\n",
       "    <tr>\n",
       "      <th>6</th>\n",
       "      <td>0</td>\n",
       "      <td>0</td>\n",
       "      <td>0</td>\n",
       "      <td>0</td>\n",
       "      <td>0</td>\n",
       "      <td>5</td>\n",
       "      <td>0</td>\n",
       "    </tr>\n",
       "    <tr>\n",
       "      <th>7</th>\n",
       "      <td>0</td>\n",
       "      <td>0</td>\n",
       "      <td>0</td>\n",
       "      <td>0</td>\n",
       "      <td>0</td>\n",
       "      <td>0</td>\n",
       "      <td>2</td>\n",
       "    </tr>\n",
       "  </tbody>\n",
       "</table>\n",
       "</div>"
      ],
      "text/plain": [
       "col_0   1   2  3  4  5  6  7\n",
       "class                       \n",
       "1      23   0  0  0  0  0  0\n",
       "2       0  12  0  0  0  0  0\n",
       "3       0   0  2  1  0  0  0\n",
       "4       0   0  0  3  0  0  0\n",
       "5       0   0  0  0  3  0  0\n",
       "6       0   0  0  0  0  5  0\n",
       "7       0   0  0  0  0  0  2"
      ]
     },
     "execution_count": 73,
     "metadata": {},
     "output_type": "execute_result"
    }
   ],
   "source": [
    "pd.crosstab(y_test,y_hat)\n",
    "# the model is 100% accurate for all classes except for 4, where it misclassifies 1 animal as class 3\n",
    "# this is likely because class 3 and class 4 are fish and reptiles, so they share many features in common"
   ]
  },
  {
   "cell_type": "markdown",
   "id": "8ca6e99d",
   "metadata": {},
   "source": [
    "5. Use only `milk`, `aquatic`, and `airborne` to train a new $k$-NN classifier. Print your confusion table. Mine does not predict all of the classes, only a subset of them. To see the underlying probabilities, use `model.predict_proba(X_test.values)` to predict probabilities rather than labels for your `X_test` test data for your fitted `model`. Are all of the classes represented? Explain your results."
   ]
  },
  {
   "cell_type": "code",
   "execution_count": 75,
   "id": "b9a82724",
   "metadata": {},
   "outputs": [],
   "source": [
    "X2 = zoo.loc[:,['milk','aquatic', 'airborne']]\n",
    "X2 = X2.apply(maxmin) # Normalize X"
   ]
  },
  {
   "cell_type": "code",
   "execution_count": 77,
   "id": "4ceecdf2",
   "metadata": {},
   "outputs": [],
   "source": [
    "X_train, X_test, y_train, y_test = train_test_split(X2,y, # Feature and target variables\n",
    "                                                    test_size=.5, # Split the sample 50 train/50 test\n",
    "                                                    random_state=100) # For replication purposes\n",
    "N_train = len(y_train)\n",
    "N_test = len(y_test)"
   ]
  },
  {
   "cell_type": "code",
   "execution_count": 79,
   "id": "cdbb3c03",
   "metadata": {},
   "outputs": [
    {
     "name": "stdout",
     "output_type": "stream",
     "text": [
      "[2 4 5 6]\n"
     ]
    }
   ],
   "source": [
    "k_bar = N_test # Number of k's to try (length of test set)\n",
    "Acc = [] # We'll store the accuracy here \n",
    "\n",
    "for k in range(1, k_bar):\n",
    "    model = KNeighborsClassifier(n_neighbors=k) # Create a sk model for k\n",
    "    fitted_model = model.fit(X_train.values,y_train) # Train the model on our data\n",
    "    y_hat = fitted_model.predict(X_test.values) # Predict values for test set\n",
    "    Acc.append( np.sum( y_hat == y_test )/N_test ) # Accuracy on testing data\n",
    "\n",
    "Acc_max = np.max(Acc) # Find highest recorded Accuracy\n",
    "max_index = np.where(Acc==Acc_max) # Find the indices that equal the maximum\n",
    "k_star = max_index[0]+1 # Find the optimal value of k\n",
    "print(k_star) # the optimal values of k increased, which makes sense because we are using fewer features so we'd want to use more neighbors to make classifications"
   ]
  },
  {
   "cell_type": "code",
   "execution_count": 80,
   "id": "261b77a5",
   "metadata": {},
   "outputs": [],
   "source": [
    "model = KNeighborsClassifier(n_neighbors=k_star[0]) # Create a sk model for k\n",
    "fitted_model = model.fit(X_train.values,y_train) # Train the model on our data\n",
    "y_hat = fitted_model.predict(X_test.values) # Predict values for test set"
   ]
  },
  {
   "cell_type": "code",
   "execution_count": 81,
   "id": "b2cdeff3",
   "metadata": {},
   "outputs": [
    {
     "data": {
      "application/vnd.microsoft.datawrangler.viewer.v0+json": {
       "columns": [
        {
         "name": "class",
         "rawType": "int64",
         "type": "integer"
        },
        {
         "name": "1",
         "rawType": "int64",
         "type": "integer"
        },
        {
         "name": "2",
         "rawType": "int64",
         "type": "integer"
        },
        {
         "name": "4",
         "rawType": "int64",
         "type": "integer"
        }
       ],
       "conversionMethod": "pd.DataFrame",
       "ref": "6907439c-1ed0-42cc-859e-2703903c0135",
       "rows": [
        [
         "1",
         "23",
         "0",
         "0"
        ],
        [
         "2",
         "0",
         "12",
         "0"
        ],
        [
         "3",
         "0",
         "2",
         "1"
        ],
        [
         "4",
         "0",
         "0",
         "3"
        ],
        [
         "5",
         "0",
         "0",
         "3"
        ],
        [
         "6",
         "0",
         "5",
         "0"
        ],
        [
         "7",
         "0",
         "0",
         "2"
        ]
       ],
       "shape": {
        "columns": 3,
        "rows": 7
       }
      },
      "text/html": [
       "<div>\n",
       "<style scoped>\n",
       "    .dataframe tbody tr th:only-of-type {\n",
       "        vertical-align: middle;\n",
       "    }\n",
       "\n",
       "    .dataframe tbody tr th {\n",
       "        vertical-align: top;\n",
       "    }\n",
       "\n",
       "    .dataframe thead th {\n",
       "        text-align: right;\n",
       "    }\n",
       "</style>\n",
       "<table border=\"1\" class=\"dataframe\">\n",
       "  <thead>\n",
       "    <tr style=\"text-align: right;\">\n",
       "      <th>col_0</th>\n",
       "      <th>1</th>\n",
       "      <th>2</th>\n",
       "      <th>4</th>\n",
       "    </tr>\n",
       "    <tr>\n",
       "      <th>class</th>\n",
       "      <th></th>\n",
       "      <th></th>\n",
       "      <th></th>\n",
       "    </tr>\n",
       "  </thead>\n",
       "  <tbody>\n",
       "    <tr>\n",
       "      <th>1</th>\n",
       "      <td>23</td>\n",
       "      <td>0</td>\n",
       "      <td>0</td>\n",
       "    </tr>\n",
       "    <tr>\n",
       "      <th>2</th>\n",
       "      <td>0</td>\n",
       "      <td>12</td>\n",
       "      <td>0</td>\n",
       "    </tr>\n",
       "    <tr>\n",
       "      <th>3</th>\n",
       "      <td>0</td>\n",
       "      <td>2</td>\n",
       "      <td>1</td>\n",
       "    </tr>\n",
       "    <tr>\n",
       "      <th>4</th>\n",
       "      <td>0</td>\n",
       "      <td>0</td>\n",
       "      <td>3</td>\n",
       "    </tr>\n",
       "    <tr>\n",
       "      <th>5</th>\n",
       "      <td>0</td>\n",
       "      <td>0</td>\n",
       "      <td>3</td>\n",
       "    </tr>\n",
       "    <tr>\n",
       "      <th>6</th>\n",
       "      <td>0</td>\n",
       "      <td>5</td>\n",
       "      <td>0</td>\n",
       "    </tr>\n",
       "    <tr>\n",
       "      <th>7</th>\n",
       "      <td>0</td>\n",
       "      <td>0</td>\n",
       "      <td>2</td>\n",
       "    </tr>\n",
       "  </tbody>\n",
       "</table>\n",
       "</div>"
      ],
      "text/plain": [
       "col_0   1   2  4\n",
       "class           \n",
       "1      23   0  0\n",
       "2       0  12  0\n",
       "3       0   2  1\n",
       "4       0   0  3\n",
       "5       0   0  3\n",
       "6       0   5  0\n",
       "7       0   0  2"
      ]
     },
     "execution_count": 81,
     "metadata": {},
     "output_type": "execute_result"
    }
   ],
   "source": [
    "pd.crosstab(y_test,y_hat) # confusion table only prints some classes"
   ]
  },
  {
   "cell_type": "code",
   "execution_count": 87,
   "id": "95eb636f",
   "metadata": {},
   "outputs": [
    {
     "name": "stdout",
     "output_type": "stream",
     "text": [
      "[[0.  0.5 0.  0.  0.  0.5 0. ]\n",
      " [0.  0.  0.  1.  0.  0.  0. ]\n",
      " [0.  0.  0.  1.  0.  0.  0. ]\n",
      " [1.  0.  0.  0.  0.  0.  0. ]\n",
      " [1.  0.  0.  0.  0.  0.  0. ]\n",
      " [0.  0.  0.  1.  0.  0.  0. ]\n",
      " [1.  0.  0.  0.  0.  0.  0. ]\n",
      " [0.  1.  0.  0.  0.  0.  0. ]\n",
      " [0.  1.  0.  0.  0.  0.  0. ]\n",
      " [0.  1.  0.  0.  0.  0.  0. ]\n",
      " [1.  0.  0.  0.  0.  0.  0. ]\n",
      " [0.  0.5 0.  0.  0.  0.5 0. ]\n",
      " [1.  0.  0.  0.  0.  0.  0. ]\n",
      " [0.  0.5 0.  0.  0.  0.  0.5]\n",
      " [0.  0.5 0.  0.  0.  0.  0.5]\n",
      " [1.  0.  0.  0.  0.  0.  0. ]\n",
      " [0.  0.  0.  1.  0.  0.  0. ]\n",
      " [1.  0.  0.  0.  0.  0.  0. ]\n",
      " [0.  0.5 0.  0.  0.  0.  0.5]\n",
      " [0.  0.5 0.  0.  0.  0.5 0. ]\n",
      " [1.  0.  0.  0.  0.  0.  0. ]\n",
      " [1.  0.  0.  0.  0.  0.  0. ]\n",
      " [0.  0.5 0.  0.  0.  0.5 0. ]\n",
      " [0.  0.5 0.  0.  0.  0.5 0. ]\n",
      " [1.  0.  0.  0.  0.  0.  0. ]\n",
      " [1.  0.  0.  0.  0.  0.  0. ]\n",
      " [0.  0.5 0.  0.  0.  0.5 0. ]\n",
      " [0.  0.5 0.  0.  0.  0.5 0. ]\n",
      " [0.  0.5 0.  0.  0.  0.5 0. ]\n",
      " [0.  0.5 0.  0.  0.  0.5 0. ]\n",
      " [1.  0.  0.  0.  0.  0.  0. ]\n",
      " [1.  0.  0.  0.  0.  0.  0. ]\n",
      " [1.  0.  0.  0.  0.  0.  0. ]\n",
      " [0.  0.  0.  1.  0.  0.  0. ]\n",
      " [1.  0.  0.  0.  0.  0.  0. ]\n",
      " [1.  0.  0.  0.  0.  0.  0. ]\n",
      " [1.  0.  0.  0.  0.  0.  0. ]\n",
      " [1.  0.  0.  0.  0.  0.  0. ]\n",
      " [1.  0.  0.  0.  0.  0.  0. ]\n",
      " [0.  0.5 0.  0.  0.  0.  0.5]\n",
      " [0.  0.5 0.  0.  0.  0.5 0. ]\n",
      " [0.  0.  0.  1.  0.  0.  0. ]\n",
      " [1.  0.  0.  0.  0.  0.  0. ]\n",
      " [0.  0.  0.  1.  0.  0.  0. ]\n",
      " [0.  0.5 0.  0.  0.  0.5 0. ]\n",
      " [0.  0.  0.  1.  0.  0.  0. ]\n",
      " [0.  0.5 0.  0.  0.  0.5 0. ]\n",
      " [1.  0.  0.  0.  0.  0.  0. ]\n",
      " [1.  0.  0.  0.  0.  0.  0. ]\n",
      " [0.  0.  0.  1.  0.  0.  0. ]\n",
      " [1.  0.  0.  0.  0.  0.  0. ]]\n"
     ]
    }
   ],
   "source": [
    "proba = model.predict_proba(X_test.values)\n",
    "print(proba)"
   ]
  },
  {
   "cell_type": "code",
   "execution_count": 88,
   "id": "cd7468f2",
   "metadata": {},
   "outputs": [
    {
     "data": {
      "application/vnd.microsoft.datawrangler.viewer.v0+json": {
       "columns": [
        {
         "name": "index",
         "rawType": "object",
         "type": "string"
        },
        {
         "name": "1",
         "rawType": "float64",
         "type": "float"
        },
        {
         "name": "2",
         "rawType": "float64",
         "type": "float"
        },
        {
         "name": "3",
         "rawType": "float64",
         "type": "float"
        },
        {
         "name": "4",
         "rawType": "float64",
         "type": "float"
        },
        {
         "name": "5",
         "rawType": "float64",
         "type": "float"
        },
        {
         "name": "6",
         "rawType": "float64",
         "type": "float"
        },
        {
         "name": "7",
         "rawType": "float64",
         "type": "float"
        }
       ],
       "conversionMethod": "pd.DataFrame",
       "ref": "fc5631dc-0dc0-4a7f-90ab-4ab73654e6c0",
       "rows": [
        [
         "count",
         "51.0",
         "51.0",
         "51.0",
         "51.0",
         "51.0",
         "51.0",
         "51.0"
        ],
        [
         "mean",
         "0.45098039215686275",
         "0.21568627450980393",
         "0.0",
         "0.17647058823529413",
         "0.0",
         "0.11764705882352941",
         "0.0392156862745098"
        ],
        [
         "std",
         "0.5025425550218042",
         "0.30421870357991326",
         "0.0",
         "0.3850133687518488",
         "0.0",
         "0.21420166418862502",
         "0.13576219116167654"
        ],
        [
         "min",
         "0.0",
         "0.0",
         "0.0",
         "0.0",
         "0.0",
         "0.0",
         "0.0"
        ],
        [
         "25%",
         "0.0",
         "0.0",
         "0.0",
         "0.0",
         "0.0",
         "0.0",
         "0.0"
        ],
        [
         "50%",
         "0.0",
         "0.0",
         "0.0",
         "0.0",
         "0.0",
         "0.0",
         "0.0"
        ],
        [
         "75%",
         "1.0",
         "0.5",
         "0.0",
         "0.0",
         "0.0",
         "0.0",
         "0.0"
        ],
        [
         "max",
         "1.0",
         "1.0",
         "0.0",
         "1.0",
         "0.0",
         "0.5",
         "0.5"
        ]
       ],
       "shape": {
        "columns": 7,
        "rows": 8
       }
      },
      "text/html": [
       "<div>\n",
       "<style scoped>\n",
       "    .dataframe tbody tr th:only-of-type {\n",
       "        vertical-align: middle;\n",
       "    }\n",
       "\n",
       "    .dataframe tbody tr th {\n",
       "        vertical-align: top;\n",
       "    }\n",
       "\n",
       "    .dataframe thead th {\n",
       "        text-align: right;\n",
       "    }\n",
       "</style>\n",
       "<table border=\"1\" class=\"dataframe\">\n",
       "  <thead>\n",
       "    <tr style=\"text-align: right;\">\n",
       "      <th></th>\n",
       "      <th>1</th>\n",
       "      <th>2</th>\n",
       "      <th>3</th>\n",
       "      <th>4</th>\n",
       "      <th>5</th>\n",
       "      <th>6</th>\n",
       "      <th>7</th>\n",
       "    </tr>\n",
       "  </thead>\n",
       "  <tbody>\n",
       "    <tr>\n",
       "      <th>count</th>\n",
       "      <td>51.000000</td>\n",
       "      <td>51.000000</td>\n",
       "      <td>51.0</td>\n",
       "      <td>51.000000</td>\n",
       "      <td>51.0</td>\n",
       "      <td>51.000000</td>\n",
       "      <td>51.000000</td>\n",
       "    </tr>\n",
       "    <tr>\n",
       "      <th>mean</th>\n",
       "      <td>0.450980</td>\n",
       "      <td>0.215686</td>\n",
       "      <td>0.0</td>\n",
       "      <td>0.176471</td>\n",
       "      <td>0.0</td>\n",
       "      <td>0.117647</td>\n",
       "      <td>0.039216</td>\n",
       "    </tr>\n",
       "    <tr>\n",
       "      <th>std</th>\n",
       "      <td>0.502543</td>\n",
       "      <td>0.304219</td>\n",
       "      <td>0.0</td>\n",
       "      <td>0.385013</td>\n",
       "      <td>0.0</td>\n",
       "      <td>0.214202</td>\n",
       "      <td>0.135762</td>\n",
       "    </tr>\n",
       "    <tr>\n",
       "      <th>min</th>\n",
       "      <td>0.000000</td>\n",
       "      <td>0.000000</td>\n",
       "      <td>0.0</td>\n",
       "      <td>0.000000</td>\n",
       "      <td>0.0</td>\n",
       "      <td>0.000000</td>\n",
       "      <td>0.000000</td>\n",
       "    </tr>\n",
       "    <tr>\n",
       "      <th>25%</th>\n",
       "      <td>0.000000</td>\n",
       "      <td>0.000000</td>\n",
       "      <td>0.0</td>\n",
       "      <td>0.000000</td>\n",
       "      <td>0.0</td>\n",
       "      <td>0.000000</td>\n",
       "      <td>0.000000</td>\n",
       "    </tr>\n",
       "    <tr>\n",
       "      <th>50%</th>\n",
       "      <td>0.000000</td>\n",
       "      <td>0.000000</td>\n",
       "      <td>0.0</td>\n",
       "      <td>0.000000</td>\n",
       "      <td>0.0</td>\n",
       "      <td>0.000000</td>\n",
       "      <td>0.000000</td>\n",
       "    </tr>\n",
       "    <tr>\n",
       "      <th>75%</th>\n",
       "      <td>1.000000</td>\n",
       "      <td>0.500000</td>\n",
       "      <td>0.0</td>\n",
       "      <td>0.000000</td>\n",
       "      <td>0.0</td>\n",
       "      <td>0.000000</td>\n",
       "      <td>0.000000</td>\n",
       "    </tr>\n",
       "    <tr>\n",
       "      <th>max</th>\n",
       "      <td>1.000000</td>\n",
       "      <td>1.000000</td>\n",
       "      <td>0.0</td>\n",
       "      <td>1.000000</td>\n",
       "      <td>0.0</td>\n",
       "      <td>0.500000</td>\n",
       "      <td>0.500000</td>\n",
       "    </tr>\n",
       "  </tbody>\n",
       "</table>\n",
       "</div>"
      ],
      "text/plain": [
       "               1          2     3          4     5          6          7\n",
       "count  51.000000  51.000000  51.0  51.000000  51.0  51.000000  51.000000\n",
       "mean    0.450980   0.215686   0.0   0.176471   0.0   0.117647   0.039216\n",
       "std     0.502543   0.304219   0.0   0.385013   0.0   0.214202   0.135762\n",
       "min     0.000000   0.000000   0.0   0.000000   0.0   0.000000   0.000000\n",
       "25%     0.000000   0.000000   0.0   0.000000   0.0   0.000000   0.000000\n",
       "50%     0.000000   0.000000   0.0   0.000000   0.0   0.000000   0.000000\n",
       "75%     1.000000   0.500000   0.0   0.000000   0.0   0.000000   0.000000\n",
       "max     1.000000   1.000000   0.0   1.000000   0.0   0.500000   0.500000"
      ]
     },
     "execution_count": 88,
     "metadata": {},
     "output_type": "execute_result"
    }
   ],
   "source": [
    "probabilities = pd.DataFrame(proba, columns=classes)\n",
    "probabilities.describe()\n",
    "# from this, we can see that the model is not very confident in its predictions, with the highest mean probability being less than 0.5\n",
    "# this is likely because the model is using fewer features, so it is less certain about its predictions\n",
    "# The mean of probabilities for class 3 and 5 (reptiles and amphibians) are zero, meaning the model will not predict these classes\n",
    "# specifically for this second model, because of the features used (milk, aquatic, airborne) only aquatic could apply to classes 3 and 5\n",
    "# but because both of those classes have very few observations, they are not as likely to be chosen as a nearest neighbor\n",
    "# and because the other two features are never present in classes 3 and 5, the model cannot distinguish between \n",
    "# fish (class 4) vs. and reptiles and amphibians, and will always choose fish because of the significantly higher count of observations"
   ]
  },
  {
   "cell_type": "markdown",
   "id": "c008c35c",
   "metadata": {},
   "source": [
    "**Q3.** This question is a case study for $k$ nearest neighbor regression, using the `cars_env.csv` data. \n",
    "\n",
    "The variables that go into the model are one more dimension to think about: We can use the train-test split approach to pick the variables that go into the model, not just the number of neighbors.\n",
    "\n",
    "1. Load the data. We're going to use `footprint`, `baseline mpg`, `baseline price`, and `baseline sales`. Prepare some EDA results for these variables: describe tables, histograms/kernel density plots, scatterplots, etc. I renamed these variables to `footprint`, `mpg`, `price`, and `sales` to save time.\n",
    "2. Maxmin normalize `footprint`, `mpg`, and `price`. These will be our features/covariates $X$. Our target/dependent/outcome variable $y$ will be sales. Does it make sense to normalize $y$?\n",
    "3. Make a 30% train-test split of the data into 30% test/validation data and 70% training data. \n",
    "4. Using all three covariates --- `footprint`, `mpg`, and `price` --- what's the best $k$ to use? What SSE is achieved on the test set? To answer these questions, evalute the sum of squared error on the test set for a reasonable range of values of $k$ (perhaps 2 to 150), and find the $k$ with the lowest SSE. \n",
    "5. Do part 4 again, for each pair of variables: `footprint` and `mpg`, `footprint` and `price`, `mpg` and `price`.\n",
    "6. Which set of variables from parts 4 and 5 does the best, in terms of minimizing SSE at the optimal choice of neighbors? Explain."
   ]
  },
  {
   "cell_type": "markdown",
   "id": "6a0ff5e3",
   "metadata": {},
   "source": [
    "**Q4.** This is a case study on $k$ nearest neighbor classification, using the `land_mines.csv` data.\n",
    "\n",
    "The data consists of a label, `mine_type`, taking integer values 1 to 5, and three properties of the mine, `voltage`, `height` and `soil`. We want to predict the kind of mine from data about it. Imagine working for the DOD or a humanitarian aid agency, trying to help people remove land mines more safely.\n",
    "\n",
    "1. Load the data. Perform some EDA, summarizing the target label and the features.\n"
   ]
  },
  {
   "cell_type": "code",
   "execution_count": 89,
   "id": "92d550c0",
   "metadata": {},
   "outputs": [
    {
     "data": {
      "application/vnd.microsoft.datawrangler.viewer.v0+json": {
       "columns": [
        {
         "name": "index",
         "rawType": "int64",
         "type": "integer"
        },
        {
         "name": "voltage",
         "rawType": "float64",
         "type": "float"
        },
        {
         "name": "height",
         "rawType": "float64",
         "type": "float"
        },
        {
         "name": "soil",
         "rawType": "float64",
         "type": "float"
        },
        {
         "name": "mine_type",
         "rawType": "int64",
         "type": "integer"
        }
       ],
       "conversionMethod": "pd.DataFrame",
       "ref": "e9e3ea32-236c-437a-8071-a7f55095f5b9",
       "rows": [
        [
         "0",
         "0.338156758249332",
         "0.0",
         "0.0",
         "1"
        ],
        [
         "1",
         "0.320241334151485",
         "0.181818181818182",
         "0.0",
         "1"
        ],
        [
         "2",
         "0.287008750465028",
         "0.272727272727273",
         "0.0",
         "1"
        ],
        [
         "3",
         "0.256283622072919",
         "0.454545454545455",
         "0.0",
         "1"
        ],
        [
         "4",
         "0.262839598690364",
         "0.545454545454545",
         "0.0",
         "1"
        ]
       ],
       "shape": {
        "columns": 4,
        "rows": 5
       }
      },
      "text/html": [
       "<div>\n",
       "<style scoped>\n",
       "    .dataframe tbody tr th:only-of-type {\n",
       "        vertical-align: middle;\n",
       "    }\n",
       "\n",
       "    .dataframe tbody tr th {\n",
       "        vertical-align: top;\n",
       "    }\n",
       "\n",
       "    .dataframe thead th {\n",
       "        text-align: right;\n",
       "    }\n",
       "</style>\n",
       "<table border=\"1\" class=\"dataframe\">\n",
       "  <thead>\n",
       "    <tr style=\"text-align: right;\">\n",
       "      <th></th>\n",
       "      <th>voltage</th>\n",
       "      <th>height</th>\n",
       "      <th>soil</th>\n",
       "      <th>mine_type</th>\n",
       "    </tr>\n",
       "  </thead>\n",
       "  <tbody>\n",
       "    <tr>\n",
       "      <th>0</th>\n",
       "      <td>0.338157</td>\n",
       "      <td>0.000000</td>\n",
       "      <td>0.0</td>\n",
       "      <td>1</td>\n",
       "    </tr>\n",
       "    <tr>\n",
       "      <th>1</th>\n",
       "      <td>0.320241</td>\n",
       "      <td>0.181818</td>\n",
       "      <td>0.0</td>\n",
       "      <td>1</td>\n",
       "    </tr>\n",
       "    <tr>\n",
       "      <th>2</th>\n",
       "      <td>0.287009</td>\n",
       "      <td>0.272727</td>\n",
       "      <td>0.0</td>\n",
       "      <td>1</td>\n",
       "    </tr>\n",
       "    <tr>\n",
       "      <th>3</th>\n",
       "      <td>0.256284</td>\n",
       "      <td>0.454545</td>\n",
       "      <td>0.0</td>\n",
       "      <td>1</td>\n",
       "    </tr>\n",
       "    <tr>\n",
       "      <th>4</th>\n",
       "      <td>0.262840</td>\n",
       "      <td>0.545455</td>\n",
       "      <td>0.0</td>\n",
       "      <td>1</td>\n",
       "    </tr>\n",
       "  </tbody>\n",
       "</table>\n",
       "</div>"
      ],
      "text/plain": [
       "    voltage    height  soil  mine_type\n",
       "0  0.338157  0.000000   0.0          1\n",
       "1  0.320241  0.181818   0.0          1\n",
       "2  0.287009  0.272727   0.0          1\n",
       "3  0.256284  0.454545   0.0          1\n",
       "4  0.262840  0.545455   0.0          1"
      ]
     },
     "execution_count": 89,
     "metadata": {},
     "output_type": "execute_result"
    }
   ],
   "source": [
    "lm = pd.read_csv('/Users/gracesaunders/Documents/GitHub/knn/data/land_mines.csv')\n",
    "lm.head()"
   ]
  },
  {
   "cell_type": "code",
   "execution_count": 90,
   "id": "79d8db12",
   "metadata": {},
   "outputs": [
    {
     "data": {
      "application/vnd.microsoft.datawrangler.viewer.v0+json": {
       "columns": [
        {
         "name": "index",
         "rawType": "object",
         "type": "string"
        },
        {
         "name": "voltage",
         "rawType": "float64",
         "type": "float"
        },
        {
         "name": "height",
         "rawType": "float64",
         "type": "float"
        },
        {
         "name": "soil",
         "rawType": "float64",
         "type": "float"
        },
        {
         "name": "mine_type",
         "rawType": "float64",
         "type": "float"
        }
       ],
       "conversionMethod": "pd.DataFrame",
       "ref": "14ab5fa3-067a-4383-80a5-e11d95c84c39",
       "rows": [
        [
         "count",
         "338.0",
         "338.0",
         "338.0",
         "338.0"
        ],
        [
         "mean",
         "0.43063426594664367",
         "0.5088757396449705",
         "0.5035502958579882",
         "2.9526627218934913"
        ],
        [
         "std",
         "0.19581902614980526",
         "0.30604339150454274",
         "0.34424363243453365",
         "1.4197030277818197"
        ],
        [
         "min",
         "0.197733878827493",
         "0.0",
         "0.0",
         "1.0"
        ],
        [
         "25%",
         "0.3097368444821405",
         "0.272727272727273",
         "0.2",
         "2.0"
        ],
        [
         "50%",
         "0.359516205759377",
         "0.545454545454545",
         "0.6",
         "3.0"
        ],
        [
         "75%",
         "0.48262782259582576",
         "0.727272727272727",
         "0.8",
         "4.0"
        ],
        [
         "max",
         "0.999998727624942",
         "1.0",
         "1.0",
         "5.0"
        ]
       ],
       "shape": {
        "columns": 4,
        "rows": 8
       }
      },
      "text/html": [
       "<div>\n",
       "<style scoped>\n",
       "    .dataframe tbody tr th:only-of-type {\n",
       "        vertical-align: middle;\n",
       "    }\n",
       "\n",
       "    .dataframe tbody tr th {\n",
       "        vertical-align: top;\n",
       "    }\n",
       "\n",
       "    .dataframe thead th {\n",
       "        text-align: right;\n",
       "    }\n",
       "</style>\n",
       "<table border=\"1\" class=\"dataframe\">\n",
       "  <thead>\n",
       "    <tr style=\"text-align: right;\">\n",
       "      <th></th>\n",
       "      <th>voltage</th>\n",
       "      <th>height</th>\n",
       "      <th>soil</th>\n",
       "      <th>mine_type</th>\n",
       "    </tr>\n",
       "  </thead>\n",
       "  <tbody>\n",
       "    <tr>\n",
       "      <th>count</th>\n",
       "      <td>338.000000</td>\n",
       "      <td>338.000000</td>\n",
       "      <td>338.000000</td>\n",
       "      <td>338.000000</td>\n",
       "    </tr>\n",
       "    <tr>\n",
       "      <th>mean</th>\n",
       "      <td>0.430634</td>\n",
       "      <td>0.508876</td>\n",
       "      <td>0.503550</td>\n",
       "      <td>2.952663</td>\n",
       "    </tr>\n",
       "    <tr>\n",
       "      <th>std</th>\n",
       "      <td>0.195819</td>\n",
       "      <td>0.306043</td>\n",
       "      <td>0.344244</td>\n",
       "      <td>1.419703</td>\n",
       "    </tr>\n",
       "    <tr>\n",
       "      <th>min</th>\n",
       "      <td>0.197734</td>\n",
       "      <td>0.000000</td>\n",
       "      <td>0.000000</td>\n",
       "      <td>1.000000</td>\n",
       "    </tr>\n",
       "    <tr>\n",
       "      <th>25%</th>\n",
       "      <td>0.309737</td>\n",
       "      <td>0.272727</td>\n",
       "      <td>0.200000</td>\n",
       "      <td>2.000000</td>\n",
       "    </tr>\n",
       "    <tr>\n",
       "      <th>50%</th>\n",
       "      <td>0.359516</td>\n",
       "      <td>0.545455</td>\n",
       "      <td>0.600000</td>\n",
       "      <td>3.000000</td>\n",
       "    </tr>\n",
       "    <tr>\n",
       "      <th>75%</th>\n",
       "      <td>0.482628</td>\n",
       "      <td>0.727273</td>\n",
       "      <td>0.800000</td>\n",
       "      <td>4.000000</td>\n",
       "    </tr>\n",
       "    <tr>\n",
       "      <th>max</th>\n",
       "      <td>0.999999</td>\n",
       "      <td>1.000000</td>\n",
       "      <td>1.000000</td>\n",
       "      <td>5.000000</td>\n",
       "    </tr>\n",
       "  </tbody>\n",
       "</table>\n",
       "</div>"
      ],
      "text/plain": [
       "          voltage      height        soil   mine_type\n",
       "count  338.000000  338.000000  338.000000  338.000000\n",
       "mean     0.430634    0.508876    0.503550    2.952663\n",
       "std      0.195819    0.306043    0.344244    1.419703\n",
       "min      0.197734    0.000000    0.000000    1.000000\n",
       "25%      0.309737    0.272727    0.200000    2.000000\n",
       "50%      0.359516    0.545455    0.600000    3.000000\n",
       "75%      0.482628    0.727273    0.800000    4.000000\n",
       "max      0.999999    1.000000    1.000000    5.000000"
      ]
     },
     "execution_count": 90,
     "metadata": {},
     "output_type": "execute_result"
    }
   ],
   "source": [
    "lm.describe()"
   ]
  },
  {
   "cell_type": "code",
   "execution_count": 94,
   "id": "0d8e38d2",
   "metadata": {},
   "outputs": [
    {
     "name": "stdout",
     "output_type": "stream",
     "text": [
      "\n",
      " type 1 mines:\n",
      "         voltage     height       soil  mine_type\n",
      "count  71.000000  71.000000  71.000000       71.0\n",
      "mean    0.296463   0.495519   0.492958        1.0\n",
      "std     0.031672   0.315962   0.341143        0.0\n",
      "min     0.229607   0.000000   0.000000        1.0\n",
      "25%     0.273096   0.227273   0.200000        1.0\n",
      "50%     0.296586   0.454545   0.400000        1.0\n",
      "75%     0.320241   0.727273   0.800000        1.0\n",
      "max     0.365861   1.000000   1.000000        1.0\n",
      "\n",
      " type 2 mines:\n",
      "         voltage     height       soil  mine_type\n",
      "count  70.000000  70.000000  70.000000       70.0\n",
      "mean    0.721123   0.487013   0.508571        2.0\n",
      "std     0.222267   0.310720   0.345045        0.0\n",
      "min     0.362537   0.000000   0.000000        2.0\n",
      "25%     0.505286   0.204545   0.200000        2.0\n",
      "50%     0.714501   0.454545   0.600000        2.0\n",
      "75%     0.998488   0.727273   0.800000        2.0\n",
      "max     0.999999   1.000000   1.000000        2.0\n",
      "\n",
      " type 3 mines:\n",
      "         voltage     height       soil  mine_type\n",
      "count  66.000000  66.000000  66.000000       66.0\n",
      "mean    0.402408   0.527548   0.496970        3.0\n",
      "std     0.098185   0.296288   0.351248        0.0\n",
      "min     0.253776   0.000000   0.000000        3.0\n",
      "25%     0.339879   0.272727   0.200000        3.0\n",
      "50%     0.371601   0.545455   0.500000        3.0\n",
      "75%     0.441087   0.795455   0.800000        3.0\n",
      "max     0.752265   1.000000   1.000000        3.0\n",
      "\n",
      " type 4 mines:\n",
      "         voltage     height       soil  mine_type\n",
      "count  66.000000  66.000000  66.000000       66.0\n",
      "mean    0.345365   0.506887   0.503030        4.0\n",
      "std     0.092564   0.306348   0.347727        0.0\n",
      "min     0.197734   0.000000   0.000000        4.0\n",
      "25%     0.263074   0.272727   0.200000        4.0\n",
      "50%     0.336858   0.545455   0.500000        4.0\n",
      "75%     0.407099   0.727273   0.800000        4.0\n",
      "max     0.592144   1.000000   1.000000        4.0\n",
      "\n",
      " type 5 mines:\n",
      "         voltage     height       soil  mine_type\n",
      "count  65.000000  65.000000  65.000000       65.0\n",
      "mean    0.379598   0.530070   0.516923        5.0\n",
      "std     0.076340   0.306426   0.346216        0.0\n",
      "min     0.229607   0.000000   0.000000        5.0\n",
      "25%     0.323262   0.272727   0.200000        5.0\n",
      "50%     0.362537   0.545455   0.600000        5.0\n",
      "75%     0.422840   0.818182   0.800000        5.0\n",
      "max     0.583081   1.000000   1.000000        5.0\n"
     ]
    }
   ],
   "source": [
    "types = sorted(lm['mine_type'].unique())\n",
    "\n",
    "for label in types:\n",
    "    type_mines = lm.loc[lm['mine_type'] == label,:]\n",
    "    print(f\"\\n type {label} mines:\")\n",
    "    print(type_mines.describe())"
   ]
  },
  {
   "cell_type": "markdown",
   "metadata": {},
   "source": [
    "2. Split the sample 50/50 into training and test/validation sets. (The smaller the data are, the more equal the split should be, in my experience: Otherwise, all of the members of one class end up in the training or test data, and the model falls apart.)\n"
   ]
  },
  {
   "cell_type": "markdown",
   "id": "6abf9011",
   "metadata": {},
   "source": [
    "3. Build a $k$-NN classifier. Explain how you select $k$.\n"
   ]
  },
  {
   "cell_type": "markdown",
   "id": "06f0bc20",
   "metadata": {},
   "source": [
    "4. Print a confusion table for the optimal model, comparing predicted and actual class label on the test set. How accurate is it? Where is performance more or less accurate?\n"
   ]
  },
  {
   "cell_type": "markdown",
   "id": "d0cd37b8",
   "metadata": {},
   "source": [
    "5. Notice that you can have a lot of accurate predictions for a given type of mine, but still make a lot of mistakes. Please explain how you'd advise someone to actually use this predictive model in practice, given the errors that it tends to make."
   ]
  },
  {
   "cell_type": "markdown",
   "id": "010b57f7-bf4f-4494-b54c-49c4f3ae3ab9",
   "metadata": {},
   "source": [
    "**Q5.** This question is a case study for $k$ nearest neighbor regression, using the `heart_failure_clinical_records_dataset.csv` data.\n",
    "\n",
    "The data for the question include:\n",
    "\n",
    "- age: age of the patient (years)\n",
    "- anaemia: decrease of red blood cells or hemoglobin (boolean)\n",
    "- high blood pressure: if the patient has hypertension (boolean)\n",
    "- creatinine phosphokinase (CPK): level of the CPK enzyme in the blood (mcg/L)\n",
    "- diabetes: if the patient has diabetes (boolean)\n",
    "- ejection fraction: percentage of blood leaving the heart at each contraction (percentage)\n",
    "- platelets: platelets in the blood (kiloplatelets/mL)\n",
    "- sex: woman or man (binary)\n",
    "- serum creatinine: level of serum creatinine in the blood (mg/dL)\n",
    "- serum sodium: level of serum sodium in the blood (mEq/L)\n",
    "- smoking: if the patient smokes or not (boolean)\n",
    "- time: follow-up period (days)\n",
    "- death event: if the patient deceased during the follow-up period (boolean)\n",
    "\n",
    "1. Load the `./data/heart_failure_clinical_records_dataset.csv`. Are there any `NA`'s to handle? use `.drop()` to remove `time` from the dataframe.\n",
    "2. Make a correlation matrix. What variables are strongly associated with a death event?\n",
    "3. For the dummy variables `anaemia`, `diabetes`, `high_blood_pressure`, `sex`, and `smoking`, compute a summary table of `DEATH_EVENT` grouped by the variable. For which variables does a higher proportion of the population die when the variable takes the value 1 rather than 0?\n",
    "4. On the basis of your answers from 2 and 3, build a matrix $X$ of the variables you think are most predictive of a death, and a variable $y$ equal to `DEATH_EVENT`.\n",
    "5. Maxmin normalize all of the variables in `X`.\n",
    "6. Split the sample into ~80% for training and ~20% for evaluation. (Try to use the same train/test split for the whole question, so that you're comparing apples to apples in the questions below.).\n",
    "7. Determine the optimal number of neighbors for a $k$NN regression for the variables you selected.\n",
    "8. OK, do steps 5 through 7 again, but use all of the variables (except `time`). Which model has a lower Sum of Squared Error? Which would you prefer to use in practice, if you had to predict `DEATH_EVENT`s? If you play with the selection of variables, how much does the SSE change for your fitted model on the test data? Are more variables always better? Explain your findings."
   ]
  },
  {
   "cell_type": "markdown",
   "id": "8d193de6",
   "metadata": {
    "vscode": {
     "languageId": "plaintext"
    }
   },
   "source": [
    "**Q6.** This is a case study on $k$ nearest neighbor regression and imputation, using the `airbnb_hw.csv` data.\n",
    "\n",
    "There are 30,478 observations, but only 22,155 ratings. We're going to build a kNN regressor to impute missing values. This is a common task, and illustrates one way you can use kNN in the future even when you have more advanced models available.\n",
    "\n",
    "1. Load the `airbnb_hw.csv` data with Pandas. We're only going to use `Review Scores Rating`, `Price`, and `Beds`, so use `.loc` to reduce the dataframe to those variables.\n",
    "2. Set use `.isnull()` to select the subset of the dataframe with missing review values. Set those aside in a different dataframe. We'll make predictions about them later.\n",
    "3. Use `df = df.dropna(axis = 0, how = 'any')` to eliminate any observations with missing values/NA's from the dataframe.\n",
    "4. For the complete cases, create a $k$-NN model that uses the variables `Price` and `Beds` to predict `Review Scores Rating`. How do you choose $k$? (Hint: Train/test split, iterate over reasonable values of $k$ and find a value that minimizes SSE on the test split using predictions from the training set.)\n",
    "5. Predict the missing ratings. \n",
    "6. Do a kernel density plot of the training ratings and the predicted missing ratings. Do they look similar or not? Explain why."
   ]
  }
 ],
 "metadata": {
  "kernelspec": {
   "display_name": ".venv",
   "language": "python",
   "name": "python3"
  },
  "language_info": {
   "codemirror_mode": {
    "name": "ipython",
    "version": 3
   },
   "file_extension": ".py",
   "mimetype": "text/x-python",
   "name": "python",
   "nbconvert_exporter": "python",
   "pygments_lexer": "ipython3",
   "version": "3.13.1"
  }
 },
 "nbformat": 4,
 "nbformat_minor": 5
}
